{
 "cells": [
  {
   "cell_type": "code",
   "execution_count": 8,
   "metadata": {},
   "outputs": [
    {
     "name": "stdout",
     "output_type": "stream",
     "text": [
      "BLUE   3\n",
      "SLVR   8\n",
      "BLUE   18\n",
      "SLVR   21\n"
     ]
    }
   ],
   "source": [
    "from flask import Flask, jsonify\n",
    "import requests\n",
    "\n",
    "#API Request\n",
    "response = requests.get(\"https://realtime.portauthority.org/bustime/api/v3/getpredictions?key=QK3n4Cr23BURNkfRyWBC2HQS6&rtpidatafeed=Light%20Rail&stpid=99904&format=json\")\n",
    "#Format API Request\n",
    "data = response.json()\n",
    "try:\n",
    "    data = response.json()\n",
    "    bustimeResponse = data['bustime-response']['prd']\n",
    "    for x in range(0,len(bustimeResponse)):\n",
    "        #Pull First Arrival Prediction Data\n",
    "        data = bustimeResponse[x]\n",
    "        route = data['rt']\n",
    "        predictionCountdown = data['prdctdn']\n",
    "        print(route + \"   \" + predictionCountdown)\n",
    "except:\n",
    "    print(\"No Arrival Times\")\n"
   ]
  }
 ],
 "metadata": {
  "kernelspec": {
   "display_name": "Python 3",
   "language": "python",
   "name": "python3"
  },
  "language_info": {
   "codemirror_mode": {
    "name": "ipython",
    "version": 3
   },
   "file_extension": ".py",
   "mimetype": "text/x-python",
   "name": "python",
   "nbconvert_exporter": "python",
   "pygments_lexer": "ipython3",
   "version": "3.12.1"
  }
 },
 "nbformat": 4,
 "nbformat_minor": 2
}
